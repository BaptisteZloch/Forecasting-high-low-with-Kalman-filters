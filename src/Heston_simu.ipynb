{
 "cells": [
  {
   "cell_type": "code",
   "execution_count": 137,
   "metadata": {},
   "outputs": [
    {
     "name": "stdout",
     "output_type": "stream",
     "text": [
      "             St        Vt        Bt        Zt\n",
      "0    100.000000  0.200000  0.090062  0.014061\n",
      "1    100.000000  0.200000  0.035024 -0.002163\n",
      "2    100.055565  0.199867  0.023942 -0.039486\n",
      "3    100.058840  0.199378  0.005352 -0.047131\n",
      "4    100.056911  0.198902  0.003474 -0.034654\n",
      "..          ...       ...       ...       ...\n",
      "247   97.205956  0.194564 -0.091722  0.090596\n",
      "248   97.122739  0.195616 -0.026779  0.058766\n",
      "249   97.038025  0.196181 -0.027280  0.077756\n",
      "250   97.125433  0.196883  0.036249 -0.128310\n",
      "251   97.112096  0.195741 -0.000959  0.016628\n",
      "\n",
      "[252 rows x 4 columns]\n"
     ]
    }
   ],
   "source": [
    "import numpy as np\n",
    "import pandas as pd\n",
    "import matplotlib.pyplot as plt\n",
    "\n",
    "\n",
    "#chemin_fichier_excel = 'C:\\\\Users\\\\milos\\\\OneDrive\\\\Bureau\\\\M2\\\\Gestion quant\\\\projet KALMAN\\\\Appl_data.xlsx'\n",
    "#df = pd.read_excel(chemin_fichier_excel)\n",
    "#colonnes_selectionnees = ['Date', 'price'] \n",
    "#df_selection = df[colonnes_selectionnees]\n",
    "#prix_apple=df['price']\n",
    "#Dynamic State-Space Stochastic Volatility Model\n",
    "class DDSSM :\n",
    "    def __init__(self,N,T,p,mu,kappa,theta,xi,rho,S0=100,V0=0.20):\n",
    "        # paramètre\n",
    "        self.mu = mu\n",
    "        self.kappa = kappa\n",
    "        self.theta=theta\n",
    "        self.xi = xi\n",
    "        self.rho = rho\n",
    "        self.N=N\n",
    "        self.T=T\n",
    "        self.p=p\n",
    "        # Discrétisation temporelle\n",
    "        dt = T / N\n",
    "        # Génération de mouvements browniens corrélés\n",
    "        #np.random.seed(42)\n",
    "        self.Bt = np.random.normal(0, np.sqrt(dt), self.N)\n",
    "        self.Zt = self.rho * self.Bt + np.sqrt(1 - self.rho**2) * np.random.normal(0, np.sqrt(dt), self.N)\n",
    "        # Initialisation des vecteurs de prix et de volatilité\n",
    "        self.S = np.zeros(N)\n",
    "        self.V = np.zeros(N)\n",
    "        self.logV=np.zeros(N)\n",
    "        self.S[0]=S0\n",
    "        self.S[1]=S0\n",
    "        self.V[0]=V0\n",
    "        self.V[1]=V0\n",
    "        self.logV[0]=np.log10(V0)\n",
    "        self.logV[1]=np.log10(V0)\n",
    "        # Simulation du modèle \n",
    "        for i in range(2, self.N):\n",
    "            self.logV[i] = np.log10(self.V[i-1]) + dt/self.V[i-1]*(self.kappa * (self.theta - self.V[i - 1]) - 1/2*self.xi**2*self.V[i-1]**(p-1) - self.rho*self.xi*self.V[i-1]**(p-0.5) * (self.mu[i-1] - 1/2*self.V[i-1])) + self.rho*self.xi*self.V[i-1]**(p-3/2)*(np.log(self.S[i-1]) - np.log(self.S[i-2])) + self.xi*self.V[i-1]**(p-1)*np.sqrt(dt)*np.sqrt(1-self.rho)*self.Zt[i-1] \n",
    "            self.V[i] = 10**self.logV[i]\n",
    "            lnS = np.log(self.S[i-1]) + (self.mu[i-1] -self.V[i]/2)*dt + np.sqrt(dt)*np.sqrt(self.V[i])*self.Bt[i]\n",
    "            self.S[i] = np.exp(lnS)\n",
    "\n",
    "    def simulate(self):\n",
    "        return self.V, self.S\n",
    "\n",
    "    def disp(self):\n",
    "        df = pd.DataFrame([self.S,self.V,self.Bt,self.Zt],index=['St','Vt','Bt','Zt']).T\n",
    "        print(df)\n",
    "        return\n",
    "    \n",
    "# Paramètres du modèle\n",
    "N=252#len(prix_apple)\n",
    "mu = [0.07 for i in range(N)]\n",
    "kappa = 3\n",
    "theta = 0.20\n",
    "xi = 0.1\n",
    "rho = -0.5\n",
    "T=1\n",
    "p=1/2 # Modèle de Heston\n",
    "# Modèle \n",
    "H = DDSSM(N,T,p,mu,kappa,theta,xi,rho)\n",
    "H.disp()\n",
    "#print(mu)\n"
   ]
  },
  {
   "cell_type": "code",
   "execution_count": null,
   "metadata": {},
   "outputs": [],
   "source": [
    "\n",
    "\n"
   ]
  }
 ],
 "metadata": {
  "kernelspec": {
   "display_name": ".venv",
   "language": "python",
   "name": "python3"
  },
  "language_info": {
   "codemirror_mode": {
    "name": "ipython",
    "version": 3
   },
   "file_extension": ".py",
   "mimetype": "text/x-python",
   "name": "python",
   "nbconvert_exporter": "python",
   "pygments_lexer": "ipython3",
   "version": "3.6.3"
  }
 },
 "nbformat": 4,
 "nbformat_minor": 2
}
