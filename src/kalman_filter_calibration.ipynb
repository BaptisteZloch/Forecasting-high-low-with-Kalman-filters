{
 "cells": [
  {
   "cell_type": "code",
   "execution_count": null,
   "metadata": {},
   "outputs": [],
   "source": [
    "import numpy as np\n",
    "import numpy.typing as npt\n",
    "import matplotlib.pyplot as plt\n",
    "\n",
    "\n",
    "from filters.kalman_filter import SimplestKalmanFilter1D\n",
    "from simulations.stochastic_models import StochasticModels"
   ]
  },
  {
   "cell_type": "code",
   "execution_count": null,
   "metadata": {},
   "outputs": [],
   "source": [
    "# Seed for reproducibility\n",
    "np.random.seed(42)\n",
    "\n",
    "# Number of days for our synthetic stock data\n",
    "num_days = 250\n",
    "\n",
    "\n",
    "t, prices = StochasticModels.simulate_random_walk_process(2, 100)\n",
    "\n",
    "# Plot the synthetic stock price data\n",
    "plt.figure(figsize=(20, 8))\n",
    "plt.plot(t, prices, label=\"Synthetic Stock Price\")\n",
    "plt.title(\"Synthetic Stock Price Data\")\n",
    "plt.xlabel(\"t (Days)\")\n",
    "plt.ylabel(\"Stock Price\")\n",
    "plt.legend()\n",
    "plt.grid(True)\n",
    "plt.show()"
   ]
  },
  {
   "cell_type": "markdown",
   "metadata": {},
   "source": [
    "# Kalman & estimation\n",
    "\n",
    "The SSM here of the Kalman filter is given by:\n",
    "\n",
    "$$\n",
    "\\begin{cases}\n",
    "    x_t = Ax_{t-1} + w_t \\\\\n",
    "    y_t = Cx_t + v_t\n",
    "\\end{cases}\n",
    "$$\n",
    "\n",
    "Where :\n",
    "\n",
    "- $x_t$ is the state vector of dimension $1$ at time $t$ is contains the price of the asset\n",
    "- $y_t$ is the observation vector of dimension $1$ at time $t$ is contains the price of the asset since we observe the price of the asset and there are not unit conversion.\n",
    "- $A$ and $C$ are the matrices of the model here $A = 1$ and $C = 1$.\n",
    "\n",
    "Then :\n",
    "\n",
    "$$\n",
    "\\begin{cases}\n",
    "    x_t = x_{t-1} + w_t \\\\\n",
    "    y_t = x_t + v_t\n",
    "\\end{cases}\n",
    "$$\n"
   ]
  },
  {
   "cell_type": "code",
   "execution_count": null,
   "metadata": {},
   "outputs": [],
   "source": [
    "# Parameters for our Kalman filter\n",
    "Q = 1  # Process noise variance (assumption)\n",
    "R = 4  # Measurement noise variance (based on our synthetic data generation)\n",
    "\n",
    "# Create and run the Kalman filter\n",
    "kf = SimplestKalmanFilter1D(Q, R)\n",
    "price_hat, _ = kf.fit_predict(prices, verbose=False)"
   ]
  },
  {
   "cell_type": "code",
   "execution_count": null,
   "metadata": {},
   "outputs": [],
   "source": [
    "# Plot the results\n",
    "plt.figure(figsize=(20, 8))\n",
    "plt.plot(prices, label=\"Synthetic Stock Price\", alpha=0.5)\n",
    "plt.plot(price_hat, label=\"Kalman Filter Estimate\", linestyle=\"--\", color=\"red\")\n",
    "plt.title(\"Kalman Filter Estimation of Stock Price\")\n",
    "plt.xlabel(\"Days\")\n",
    "plt.ylabel(\"Stock Price\")\n",
    "plt.legend()\n",
    "plt.grid(True)\n",
    "plt.show()"
   ]
  },
  {
   "cell_type": "code",
   "execution_count": null,
   "metadata": {},
   "outputs": [],
   "source": [
    "# Plot the results\n",
    "plt.figure(figsize=(20, 8))\n",
    "plt.plot(t, prices, label=\"Synthetic Stock Price\", alpha=0.5)\n",
    "plt.plot(t, price_hat, label=\"Kalman Filter Estimate\", linestyle=\"--\", color=\"red\")\n",
    "plt.title(\"Kalman Filter Estimation of Stock Price\")\n",
    "plt.xlabel(\"Days\")\n",
    "plt.ylabel(\"Stock Price\")\n",
    "plt.legend()\n",
    "plt.grid(True)\n",
    "plt.show()"
   ]
  },
  {
   "cell_type": "code",
   "execution_count": null,
   "metadata": {},
   "outputs": [],
   "source": []
  },
  {
   "cell_type": "code",
   "execution_count": null,
   "metadata": {},
   "outputs": [],
   "source": []
  }
 ],
 "metadata": {
  "kernelspec": {
   "display_name": ".venv",
   "language": "python",
   "name": "python3"
  },
  "language_info": {
   "codemirror_mode": {
    "name": "ipython",
    "version": 3
   },
   "file_extension": ".py",
   "mimetype": "text/x-python",
   "name": "python",
   "nbconvert_exporter": "python",
   "pygments_lexer": "ipython3",
   "version": "3.11.7"
  }
 },
 "nbformat": 4,
 "nbformat_minor": 2
}
